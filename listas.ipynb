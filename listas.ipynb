{
  "nbformat": 4,
  "nbformat_minor": 0,
  "metadata": {
    "colab": {
      "provenance": [],
      "authorship_tag": "ABX9TyNNGKt/igUwbl7j/zVK6jyD",
      "include_colab_link": true
    },
    "kernelspec": {
      "name": "python3",
      "display_name": "Python 3"
    },
    "language_info": {
      "name": "python"
    }
  },
  "cells": [
    {
      "cell_type": "markdown",
      "metadata": {
        "id": "view-in-github",
        "colab_type": "text"
      },
      "source": [
        "<a href=\"https://colab.research.google.com/github/Ortegatemariangel/listas/blob/main/listas.ipynb\" target=\"_parent\"><img src=\"https://colab.research.google.com/assets/colab-badge.svg\" alt=\"Open In Colab\"/></a>"
      ]
    },
    {
      "cell_type": "markdown",
      "source": [
        "# Listas\n",
        "\n",
        "- Una lista hace referencia a una colección de datos que pueden ser números, cadenas o algún otro tipo.\n",
        "- Son colecciones ordenadas de datos, lo que implica que importa el orden en el cual se encuentran sus elementos.\n",
        "- El primer elemento ocupa la posición 0, el segundo la 1, y asi sucesivamente.\n",
        "- Son mutables: Una vez creada la lista, esta puede modificarse, se le pueden agregar o quitar elementos.\n",
        "- En python están representadas por el tipo ***list*** y para definirlas se utiliza la siguiente sintáxis:\n",
        "\n",
        " ```nombre_lista = [valor1, valor2,..., valorn]```\n",
        "\n",
        "- Los elementos pueden ser de cualquier tipo, incluso puede haber tipos diferentes en una misma lista.\n",
        "- También es posible crear una lista usando el constrctor `list()`"
      ],
      "metadata": {
        "id": "w3RzOJxACmbk"
      }
    },
    {
      "cell_type": "code",
      "source": [
        "# Ejemplo 1\n",
        "\n",
        "# =========================================================\n",
        "# Usando los [] y dando valores para inicializar las listas\n",
        "# =========================================================\n",
        "\n",
        "dias_laborables = [\"Lunes\", \"Martes\", \"Miercoles\", \"Jueves\", \"Viernes\"]\n",
        "print(dias_laborables)\n",
        "\n",
        "colores_primarios = [\"Rojo\", \"Amarillo\", \"Azul\"]\n",
        "print(colores_primarios)\n",
        "\n",
        "precios = [205, 30, 107, 18, 25, 450, 310.89, 170.23, 340]\n",
        "print (precios)\n",
        "print (type(precios))\n",
        "mezcolanza = [12, 'octubre', 1942, True]\n",
        "lista_vacia = []\n",
        "\n",
        "# =========================================================\n",
        "# usando el constructor list()\n",
        "# =========================================================\n",
        "lista_vacia_2 = list()\n",
        "lista_3 = list (range(0,30,2))\n",
        "print (lista_3)\n",
        "lista_4 = list (range (29,0,-2))\n",
        "print (lista_4)\n",
        "lista_5 = list ('Mariangel')\n",
        "print(lista_5)\n",
        "frase = 'Mariangel Ortegate Núñez'\n",
        "lista_6 = frase.split()\n",
        "print (lista_6)"
      ],
      "metadata": {
        "id": "ADkHfelxMrXu"
      },
      "execution_count": null,
      "outputs": []
    },
    {
      "cell_type": "markdown",
      "source": [
        "## Operaciones\n",
        "\n",
        "### Operador +\n",
        "\n",
        "- Concatenar o pegar los elementos de una lista al final de otra.\n",
        "\n",
        "### Operador *\n",
        "\n",
        "- Repetir la secuencia de elementos de la lista tantas veces como lo indique el valor que acompaña el operador."
      ],
      "metadata": {
        "id": "8kKB2W-eQvj6"
      }
    },
    {
      "cell_type": "code",
      "source": [
        "dias_laborables = [\"Lunes\", \"Martes\", \"Miercoles\", \"Jueves\", \"Viernes\"]\n",
        "\n",
        "colores_primarios = [\"Rojo\", \"Amarillo\", \"Azul\"]\n",
        "\n",
        "precios = [205, 30, 107, 18, 25, 450, 310.89, 170.23, 340]\n",
        "\n",
        "# Acceso a los elementos de una lista\n",
        "\n",
        "print(dias_laborables[0])\n",
        "print(dias_laborables[-1])\n",
        "print(dias_laborables[-5])\n",
        "\n",
        "# operador +\n",
        "\n",
        "fin_semana = [\"Sabado\", \"Domingo\"]\n",
        "semana = dias_laborables + fin_semana\n",
        "print (semana)\n",
        "\n",
        "# operador *\n",
        "colores_repetidos = colores_primarios * 3\n",
        "print (colores_repetidos)"
      ],
      "metadata": {
        "id": "NJcyNvloRcTN"
      },
      "execution_count": null,
      "outputs": []
    },
    {
      "cell_type": "markdown",
      "source": [
        "## Funciones asociadas a las listas"
      ],
      "metadata": {
        "id": "LnlMhthAUIEU"
      }
    },
    {
      "cell_type": "code",
      "source": [
        "dias_laborales = [\"Lunes\",\"Martes\",\"Miercoles\",\"Jueves\",\"Viernes\"]\n",
        "\n",
        "colores_primarios = [\"Rojo\",\"Amarillo\",\"Azul\"]\n",
        "\n",
        "precios = [205.30, 107.18, 25, 450, 310.89, 170.23, 340]\n",
        "\n",
        "pares = list(range(0, 30, 2))\n",
        "\n",
        "impares = list(range(29, 0, -2))\n",
        "\n",
        "colores_repetidos = colores_primarios * 3\n",
        "\n",
        "#append (): agrega un elemento al final de la lista\n",
        "dias_laborales.append(\"Sabado\")\n",
        "print(dias_laborales)\n",
        "\n",
        "# len(): total de elementos de la lista\n",
        "print('Total de precios = ', len(precios))\n",
        "\n",
        "#count(): cuenta el numero de veces que parece un elemto en la lista\n",
        "print(f\"El luner aparece{dias_laborales.count('Lunes')} vez(veces)\")\n",
        "\n",
        "#insert(): agrega en la posicion indicada por el indice el nuevo valor, dezplazando los demas alementos hacia la derecha, si el indice es mayor al tamaño de la lista, lo agrega al final\n",
        "colores_primarios.insert(2, \"Verde\")\n",
        "print(colores_primarios)\n",
        "\n",
        "# remove(): quita el elemento de la lista, Si el elemento no esta lanza una exepcion\n",
        "dias_laborales.remove(\"Sabado\")\n",
        "print(dias_laborales)\n",
        "\n",
        "# sort(): ordena la lista de menor a mayor\n",
        "precios.sort()\n",
        "print(precios)\n",
        "precios.sort(reverse=True)\n",
        "print(precios)\n",
        "\n",
        "#reverse():\n",
        "\n",
        "#pop():\n",
        "\n",
        "#clear()\n",
        "\n",
        "#del"
      ],
      "metadata": {
        "id": "uP-XK7t5Y0ds"
      },
      "execution_count": null,
      "outputs": []
    },
    {
      "cell_type": "markdown",
      "source": [
        "## Partición o división de listas (slicing o rebanadas)\n",
        "\n",
        "- Se pueden generar sublistas a partir de una lista por medio de la partición (división) o slicing.\n",
        "- Para obtener una sublista se usa la sintáxis: ```sublista = lista [inicio:fin:n]```\n",
        "\n"
      ],
      "metadata": {
        "id": "plmcxzzUfxtj"
      }
    },
    {
      "cell_type": "code",
      "source": [
        "# crea una lista de numeros enteros\n",
        "lista_1 = [1,2,3,4,5,6]\n",
        "\n",
        "# sublista con los elementos las posiciones de 0 a 2 inclusive\n",
        "sublista_1 = lista_1[0:3]\n",
        "print(sublista_1)\n",
        "\n",
        "# sublista con los elementos de las posiciones de 0 a la 3 incusive\n",
        "sublista_2 = lista_1[:4]\n",
        "print(sublista_2)\n",
        "\n",
        "# sublista  con los elementos de las posiciones de 3 a la 5 inclusive\n",
        "sublista_3 = lista_1[3:]\n",
        "print(sublista_3)\n",
        "\n",
        "# sublista con los elementos del inicio hasta el final con salto de a dos\n",
        "sublista_4 = lista_1[::2]\n",
        "print(sublista_4)"
      ],
      "metadata": {
        "colab": {
          "base_uri": "https://localhost:8080/"
        },
        "id": "OjSoO-YDixT-",
        "outputId": "62704d54-4743-45ce-c9a5-294548943eb3"
      },
      "execution_count": 12,
      "outputs": [
        {
          "output_type": "stream",
          "name": "stdout",
          "text": [
            "[1, 2, 3]\n",
            "[1, 2, 3, 4]\n",
            "[4, 5, 6]\n",
            "[1, 3, 5]\n"
          ]
        }
      ]
    }
  ]
}